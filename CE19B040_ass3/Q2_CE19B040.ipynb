{
 "cells": [
  {
   "cell_type": "markdown",
   "metadata": {},
   "source": [
    "Chosen linear increase in temperature is 5 units: for 1 unit of increase in time\n",
    "This implies , it becomes unfit for use if not replenished for, (200-77)/5 units of time\n",
    "Hence,first we choose random distribution of intervals, and then chech if difference between last two refills are greater than (200-77)/5 if not final interval can be t[-1]+(200-77)/5 after which it becomes unfit for further use in order to simulate this case"
   ]
  },
  {
   "cell_type": "code",
   "execution_count": 85,
   "metadata": {},
   "outputs": [],
   "source": [
    "import random as rnd\n",
    "import pandas as pd\n",
    "#import dccp\n",
    "#import cvxpy\n",
    "\n",
    "import matplotlib.pyplot as plt\n",
    "import numpy as np"
   ]
  },
  {
   "cell_type": "code",
   "execution_count": 101,
   "metadata": {},
   "outputs": [
    {
     "name": "stdout",
     "output_type": "stream",
     "text": [
      "Unfit_Can't be used anymore\n"
     ]
    }
   ],
   "source": [
    "##########################################################\n",
    "def Code_for_flag(Value_now,limiter):\n",
    "    return not(Value_now<=limiter)\n",
    "##########################################################\n",
    "random_inte=[0]\n",
    "noise = np.random.normal(0,1,8)\n",
    "for iterator in range(8):\n",
    "    if(random_inte[-1]+rnd.randint(5,10)>100):\n",
    "        break\n",
    "    random_inte.append(random_inte[-1]+rnd.randint(5,10))\n",
    "    random_inte[iterator]+=int(noise[iterator])\n",
    "random_inte=random_inte[1:]\n",
    "if(random_inte[-1]-random_inte[-2]<24.6):random_inte[-1]=random_inte[-1]+25\n",
    "losr=[iterator for iterator in range(0,101)]\n",
    "time=[77]\n",
    "f_uppr,count=0,1\n",
    "for iterator in range(1,len(losr)-1):\n",
    "    if(Code_for_flag(time[-1],200) or f_uppr==1):\n",
    "        valz=0\n",
    "        if(f_uppr==0):print(\"Unfit_Can't be used anymore\")\n",
    "        f_uppr,count=1,1\n",
    "    elif(f_uppr==0 and iterator in random_inte) or count==0:\n",
    "        count,valz=0,-(time[-1]-iterator-1)*(time[-1]+iterator+1)\n",
    "        ######################################\n",
    "        if(valz<77):valz=77\n",
    "        if(time[-1]==77):\n",
    "            count=1\n",
    "    elif(f_uppr==0 and count==1):\n",
    "        valz=time[-1]+5\n",
    "    time.append(valz)\n",
    "losr=losr[:-1]\n",
    "##########################################################"
   ]
  },
  {
   "cell_type": "code",
   "execution_count": 102,
   "metadata": {},
   "outputs": [
    {
     "name": "stdout",
     "output_type": "stream",
     "text": [
      "Times at which refills occur\n"
     ]
    },
    {
     "data": {
      "text/plain": [
       "[9, 19, 24, 33, 39, 46, 53, 83]"
      ]
     },
     "execution_count": 102,
     "metadata": {},
     "output_type": "execute_result"
    }
   ],
   "source": [
    "#Random_Refill_instances:\n",
    "print(\"Times at which refills occur\")\n",
    "random_inte"
   ]
  },
  {
   "cell_type": "code",
   "execution_count": 103,
   "metadata": {},
   "outputs": [
    {
     "data": {
      "image/png": "[encoded data removed]",
      "text/plain": [
       "<Figure size 432x288 with 1 Axes>"
      ]
     },
     "metadata": {
      "needs_background": "light"
     },
     "output_type": "display_data"
    }
   ],
   "source": [
    "plt.ylim([0,200])\n",
    "plt.ylim([0,200])\n",
    "plt.plot(l,t,'--',color='Black',markersize=20)\n",
    "plt.show()"
   ]
  }
 ],
 "metadata": {
  "kernelspec": {
   "display_name": "Python 3",
   "language": "python",
   "name": "python3"
  },
  "language_info": {
   "codemirror_mode": {
    "name": "ipython",
    "version": 3
   },
   "file_extension": ".py",
   "mimetype": "text/x-python",
   "name": "python",
   "nbconvert_exporter": "python",
   "pygments_lexer": "ipython3",
   "version": "3.8.8"
  }
 },
 "nbformat": 4,
 "nbformat_minor": 2
}
